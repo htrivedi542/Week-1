{
 "cells": [
  {
   "cell_type": "code",
   "execution_count": 1,
   "id": "c6839eb9-bedb-4b36-9096-366feb07a0ce",
   "metadata": {},
   "outputs": [],
   "source": [
    "l=[1,2,3,4,5,6,\"harsh\",24.5,True,7+8j,54.5]"
   ]
  },
  {
   "cell_type": "code",
   "execution_count": 3,
   "id": "f4f89163-6a50-4ce2-b75a-e9df908e217a",
   "metadata": {},
   "outputs": [
    {
     "name": "stdout",
     "output_type": "stream",
     "text": [
      "<class 'int'>\n",
      "1\n",
      "<class 'int'>\n",
      "2\n",
      "<class 'int'>\n",
      "3\n",
      "<class 'int'>\n",
      "4\n",
      "<class 'int'>\n",
      "5\n",
      "<class 'int'>\n",
      "6\n",
      "<class 'str'>\n",
      "harsh\n",
      "<class 'float'>\n",
      "24.5\n",
      "<class 'bool'>\n",
      "True\n",
      "<class 'complex'>\n",
      "(7+8j)\n",
      "<class 'float'>\n",
      "54.5\n"
     ]
    }
   ],
   "source": [
    "for i in l:\n",
    "    print(type(i))\n",
    "    print(i)\n"
   ]
  }
 ],
 "metadata": {
  "kernelspec": {
   "display_name": "Python 3 (ipykernel)",
   "language": "python",
   "name": "python3"
  },
  "language_info": {
   "codemirror_mode": {
    "name": "ipython",
    "version": 3
   },
   "file_extension": ".py",
   "mimetype": "text/x-python",
   "name": "python",
   "nbconvert_exporter": "python",
   "pygments_lexer": "ipython3",
   "version": "3.10.9"
  }
 },
 "nbformat": 4,
 "nbformat_minor": 5
}
