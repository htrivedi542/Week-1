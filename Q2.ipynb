{
 "cells": [
  {
   "cell_type": "code",
   "execution_count": 2,
   "id": "e71c455d-5b58-43d8-a7e1-77d213da07b7",
   "metadata": {},
   "outputs": [],
   "source": [
    "var1 = ''\n"
   ]
  },
  {
   "cell_type": "code",
   "execution_count": 3,
   "id": "c46eab08-225c-4f8b-91a2-689f1f2f2244",
   "metadata": {},
   "outputs": [
    {
     "data": {
      "text/plain": [
       "str"
      ]
     },
     "execution_count": 3,
     "metadata": {},
     "output_type": "execute_result"
    }
   ],
   "source": [
    "type(var1)"
   ]
  },
  {
   "cell_type": "code",
   "execution_count": 4,
   "id": "2e2cbcc1-575b-4c16-b569-e7a4f7d92c81",
   "metadata": {},
   "outputs": [],
   "source": [
    "var2 = '[ DS , ML , Python]'\n"
   ]
  },
  {
   "cell_type": "code",
   "execution_count": 5,
   "id": "16ba6a7b-be58-4522-b3e0-1a32316050d9",
   "metadata": {},
   "outputs": [
    {
     "data": {
      "text/plain": [
       "str"
      ]
     },
     "execution_count": 5,
     "metadata": {},
     "output_type": "execute_result"
    }
   ],
   "source": [
    "type(var2)"
   ]
  },
  {
   "cell_type": "code",
   "execution_count": 6,
   "id": "77a9590e-8dc0-42c8-8854-cfa5ca87cac5",
   "metadata": {},
   "outputs": [],
   "source": [
    "var3 = [ 'DS' , 'ML' , 'Python' ]\n"
   ]
  },
  {
   "cell_type": "code",
   "execution_count": 7,
   "id": "4e8e5005-a111-444f-9108-9dad010dfb8d",
   "metadata": {},
   "outputs": [
    {
     "data": {
      "text/plain": [
       "list"
      ]
     },
     "execution_count": 7,
     "metadata": {},
     "output_type": "execute_result"
    }
   ],
   "source": [
    "type(var3)"
   ]
  },
  {
   "cell_type": "code",
   "execution_count": 8,
   "id": "ace9a808-c575-4312-8241-cf384660158a",
   "metadata": {},
   "outputs": [],
   "source": [
    "var4 = 1.\n",
    "\n"
   ]
  },
  {
   "cell_type": "code",
   "execution_count": 9,
   "id": "b0e3efb8-0d5d-42f1-bf4f-1cc04ef1b165",
   "metadata": {},
   "outputs": [
    {
     "data": {
      "text/plain": [
       "float"
      ]
     },
     "execution_count": 9,
     "metadata": {},
     "output_type": "execute_result"
    }
   ],
   "source": [
    "type(var4)"
   ]
  },
  {
   "cell_type": "code",
   "execution_count": 11,
   "id": "03aeaedc-1bfe-42eb-90a5-2be6e39d2a80",
   "metadata": {},
   "outputs": [],
   "source": [
    "a=(var1,var2,var3,var4)"
   ]
  },
  {
   "cell_type": "code",
   "execution_count": null,
   "id": "4f99cf2d-46e3-4421-9ea6-a624b3245655",
   "metadata": {},
   "outputs": [],
   "source": [
    "for i in a:\n",
    "    print("
   ]
  }
 ],
 "metadata": {
  "kernelspec": {
   "display_name": "Python 3 (ipykernel)",
   "language": "python",
   "name": "python3"
  },
  "language_info": {
   "codemirror_mode": {
    "name": "ipython",
    "version": 3
   },
   "file_extension": ".py",
   "mimetype": "text/x-python",
   "name": "python",
   "nbconvert_exporter": "python",
   "pygments_lexer": "ipython3",
   "version": "3.10.9"
  }
 },
 "nbformat": 4,
 "nbformat_minor": 5
}
