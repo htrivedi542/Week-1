{
 "cells": [
  {
   "cell_type": "code",
   "execution_count": 2,
   "id": "263ca84b-5763-4ff7-83b3-7d2c16f9c281",
   "metadata": {},
   "outputs": [],
   "source": [
    "a= \"harsh\""
   ]
  },
  {
   "cell_type": "code",
   "execution_count": 3,
   "id": "ef556c42-ccfc-4b05-a9d6-9b5f1cd517c9",
   "metadata": {},
   "outputs": [
    {
     "data": {
      "text/plain": [
       "str"
      ]
     },
     "execution_count": 3,
     "metadata": {},
     "output_type": "execute_result"
    }
   ],
   "source": [
    "type(a)"
   ]
  },
  {
   "cell_type": "code",
   "execution_count": 26,
   "id": "422a48f5-dfdd-4cb6-9bff-dd329aba14f8",
   "metadata": {},
   "outputs": [],
   "source": [
    "d=[1,2,3,4,5,6,\"harsh\",23.5]"
   ]
  },
  {
   "cell_type": "code",
   "execution_count": 27,
   "id": "42e89107-e256-430d-8068-2cb9053ab445",
   "metadata": {},
   "outputs": [
    {
     "data": {
      "text/plain": [
       "list"
      ]
     },
     "execution_count": 27,
     "metadata": {},
     "output_type": "execute_result"
    }
   ],
   "source": [
    "type(d)"
   ]
  },
  {
   "cell_type": "code",
   "execution_count": 17,
   "id": "ac2930be-a524-4866-8723-6fd2f66efee5",
   "metadata": {},
   "outputs": [],
   "source": [
    "l=(1,2,3,4,5,6,\"harsh\",3+7j,True,35.26)"
   ]
  },
  {
   "cell_type": "code",
   "execution_count": 28,
   "id": "374187a3-f01e-4f5c-b3bc-b2c6d3f45b5d",
   "metadata": {},
   "outputs": [
    {
     "data": {
      "text/plain": [
       "tuple"
      ]
     },
     "execution_count": 28,
     "metadata": {},
     "output_type": "execute_result"
    }
   ],
   "source": [
    "type(l)"
   ]
  },
  {
   "cell_type": "code",
   "execution_count": 29,
   "id": "fe807c35-27b9-4494-be47-38a28a7378ac",
   "metadata": {},
   "outputs": [],
   "source": [
    "b=(35.66)"
   ]
  },
  {
   "cell_type": "code",
   "execution_count": 30,
   "id": "fe62bfef-ca9d-4ad3-bf7a-4eea7a8c3d11",
   "metadata": {},
   "outputs": [
    {
     "data": {
      "text/plain": [
       "float"
      ]
     },
     "execution_count": 30,
     "metadata": {},
     "output_type": "execute_result"
    }
   ],
   "source": [
    "type(b)"
   ]
  },
  {
   "cell_type": "code",
   "execution_count": 31,
   "id": "a502e0ae-ad9f-426d-840f-e7b445d3e577",
   "metadata": {},
   "outputs": [],
   "source": [
    "h=(a,d,l,b)"
   ]
  },
  {
   "cell_type": "code",
   "execution_count": 32,
   "id": "42f45ceb-ee31-417e-81b0-12f74a919c79",
   "metadata": {},
   "outputs": [
    {
     "name": "stdout",
     "output_type": "stream",
     "text": [
      "<class 'str'>\n",
      "<class 'list'>\n",
      "<class 'tuple'>\n",
      "<class 'float'>\n"
     ]
    }
   ],
   "source": [
    "for i in h:\n",
    "    print(type(i))"
   ]
  }
 ],
 "metadata": {
  "kernelspec": {
   "display_name": "Python 3 (ipykernel)",
   "language": "python",
   "name": "python3"
  },
  "language_info": {
   "codemirror_mode": {
    "name": "ipython",
    "version": 3
   },
   "file_extension": ".py",
   "mimetype": "text/x-python",
   "name": "python",
   "nbconvert_exporter": "python",
   "pygments_lexer": "ipython3",
   "version": "3.10.9"
  }
 },
 "nbformat": 4,
 "nbformat_minor": 5
}
