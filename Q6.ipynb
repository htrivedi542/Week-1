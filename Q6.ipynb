{
 "cells": [
  {
   "cell_type": "code",
   "execution_count": 1,
   "id": "49aba726",
   "metadata": {},
   "outputs": [],
   "source": [
    "l=[1,2,3,4,5,6,7,8,9,10,11,12,13,14,15,16,17,18,19,20,21,22,23,24,25,26]"
   ]
  },
  {
   "cell_type": "code",
   "execution_count": 14,
   "id": "7ea952b4-c0c5-495a-b51e-1bc9a634c6c8",
   "metadata": {},
   "outputs": [
    {
     "name": "stdout",
     "output_type": "stream",
     "text": [
      "1 is not divisible by 3\n",
      "2 is not divisible by 3\n",
      "3 is divisible by 3\n",
      "4 is not divisible by 3\n",
      "5 is not divisible by 3\n",
      "6 is divisible by 3\n",
      "7 is not divisible by 3\n",
      "8 is not divisible by 3\n",
      "9 is divisible by 3\n",
      "10 is not divisible by 3\n",
      "11 is not divisible by 3\n",
      "12 is divisible by 3\n",
      "13 is not divisible by 3\n",
      "14 is not divisible by 3\n",
      "15 is divisible by 3\n",
      "16 is not divisible by 3\n",
      "17 is not divisible by 3\n",
      "18 is divisible by 3\n",
      "19 is not divisible by 3\n",
      "20 is not divisible by 3\n",
      "21 is divisible by 3\n",
      "22 is not divisible by 3\n",
      "23 is not divisible by 3\n",
      "24 is divisible by 3\n",
      "25 is not divisible by 3\n",
      "26 is not divisible by 3\n"
     ]
    }
   ],
   "source": [
    "for i in l:\n",
    "    if i % 3 == 0:\n",
    "        print(f\"{i} is divisible by 3\")\n",
    "    else:\n",
    "        print(f\"{i} is not divisible by 3\")"
   ]
  },
  {
   "cell_type": "code",
   "execution_count": 5,
   "id": "f85279ad-fb3d-41ea-a53f-bbb16435347c",
   "metadata": {},
   "outputs": [
    {
     "name": "stdout",
     "output_type": "stream",
     "text": [
      "7 is not divisible by 3\n",
      "12 is divisible by 3\n",
      "9 is divisible by 3\n",
      "18 is divisible by 3\n",
      "5 is not divisible by 3\n",
      "21 is divisible by 3\n",
      "36 is divisible by 3\n",
      "14 is not divisible by 3\n",
      "15 is divisible by 3\n",
      "27 is divisible by 3\n",
      "8 is not divisible by 3\n",
      "30 is divisible by 3\n",
      "11 is not divisible by 3\n",
      "24 is divisible by 3\n",
      "33 is divisible by 3\n",
      "4 is not divisible by 3\n",
      "16 is not divisible by 3\n",
      "19 is not divisible by 3\n",
      "22 is not divisible by 3\n",
      "6 is divisible by 3\n",
      "10 is not divisible by 3\n",
      "20 is not divisible by 3\n",
      "25 is not divisible by 3\n",
      "13 is not divisible by 3\n",
      "3 is divisible by 3\n"
     ]
    }
   ],
   "source": [
    "# Create a list containing 25 integers\n",
    "numbers = [7, 12, 9, 18, 5, 21, 36, 14, 15, 27, 8, 30, 11, 24, 33, 4, 16, 19, 22, 6, 10, 20, 25, 13, 3]\n",
    "\n",
    "# Iterate over each element in the list\n",
    "for num in numbers:\n",
    "    # Check if the element is divisible by 3\n",
    "    if num % 3 == 0:\n",
    "        print(f\"{num} is divisible by 3\")\n",
    "    else:\n",
    "        print(f\"{num} is not divisible by 3\")\n"
   ]
  },
  {
   "cell_type": "code",
   "execution_count": null,
   "id": "f2e3fa84-6b05-4b90-9c4f-b0ad3e08bf2d",
   "metadata": {},
   "outputs": [],
   "source": []
  }
 ],
 "metadata": {
  "kernelspec": {
   "display_name": "Python 3 (ipykernel)",
   "language": "python",
   "name": "python3"
  },
  "language_info": {
   "codemirror_mode": {
    "name": "ipython",
    "version": 3
   },
   "file_extension": ".py",
   "mimetype": "text/x-python",
   "name": "python",
   "nbconvert_exporter": "python",
   "pygments_lexer": "ipython3",
   "version": "3.10.9"
  }
 },
 "nbformat": 4,
 "nbformat_minor": 5
}
