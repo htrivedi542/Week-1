{
 "cells": [
  {
   "cell_type": "code",
   "execution_count": null,
   "id": "9b240145-6fae-4a77-815a-4744784efd92",
   "metadata": {},
   "outputs": [],
   "source": [
    "#Division / : It divides the first operand by the second operand and the result is a float value"
   ]
  },
  {
   "cell_type": "code",
   "execution_count": 1,
   "id": "2bd2bed1-216b-4fbf-ad91-993cc92af382",
   "metadata": {},
   "outputs": [
    {
     "name": "stdout",
     "output_type": "stream",
     "text": [
      "10.0\n"
     ]
    }
   ],
   "source": [
    "print (20/2)"
   ]
  },
  {
   "cell_type": "code",
   "execution_count": null,
   "id": "27fe157e-46ab-4e8a-8bb4-d9b7ab306553",
   "metadata": {},
   "outputs": [],
   "source": [
    "# Modulus (%): It returns the remainder of the problem, when the first operand is divided by the second operand"
   ]
  },
  {
   "cell_type": "code",
   "execution_count": 3,
   "id": "444f6477-8b69-4f1c-a5f8-ed31f93b960c",
   "metadata": {},
   "outputs": [
    {
     "name": "stdout",
     "output_type": "stream",
     "text": [
      "2\n"
     ]
    }
   ],
   "source": [
    "print(20%9)"
   ]
  },
  {
   "cell_type": "code",
   "execution_count": null,
   "id": "28675002-9957-4ecc-a325-03c4345ffc18",
   "metadata": {},
   "outputs": [],
   "source": [
    "# Division //: It divides the first operand by the second operand and it result is a floor value"
   ]
  },
  {
   "cell_type": "code",
   "execution_count": 4,
   "id": "7fc28555-1982-4cd5-b38e-62258716bce8",
   "metadata": {},
   "outputs": [
    {
     "name": "stdout",
     "output_type": "stream",
     "text": [
      "6\n"
     ]
    }
   ],
   "source": [
    "print(20//3)"
   ]
  },
  {
   "cell_type": "code",
   "execution_count": 5,
   "id": "f3058d87-5153-45fb-80f2-ce78069fca60",
   "metadata": {},
   "outputs": [
    {
     "name": "stdout",
     "output_type": "stream",
     "text": [
      "-2\n"
     ]
    }
   ],
   "source": [
    "print(-6//4)"
   ]
  },
  {
   "cell_type": "code",
   "execution_count": null,
   "id": "0a19c5ab-d8a0-4c37-944c-699b5713c8d9",
   "metadata": {},
   "outputs": [],
   "source": [
    "#Power **: The first value is raised to power second "
   ]
  },
  {
   "cell_type": "code",
   "execution_count": null,
   "id": "2aeed5d1-fb3f-469c-87f0-1431ac9f76bd",
   "metadata": {},
   "outputs": [],
   "source": []
  }
 ],
 "metadata": {
  "kernelspec": {
   "display_name": "Python 3 (ipykernel)",
   "language": "python",
   "name": "python3"
  },
  "language_info": {
   "codemirror_mode": {
    "name": "ipython",
    "version": 3
   },
   "file_extension": ".py",
   "mimetype": "text/x-python",
   "name": "python",
   "nbconvert_exporter": "python",
   "pygments_lexer": "ipython3",
   "version": "3.10.9"
  }
 },
 "nbformat": 4,
 "nbformat_minor": 5
}
